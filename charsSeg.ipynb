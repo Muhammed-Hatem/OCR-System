{
 "cells": [
  {
   "attachments": {},
   "cell_type": "markdown",
   "metadata": {},
   "source": [
    "# best prediction: "
   ]
  },
  {
   "cell_type": "code",
   "execution_count": 1,
   "metadata": {},
   "outputs": [],
   "source": [
    "from collections import Counter\n",
    "\n",
    "def calculate_mode(arr):\n",
    "    # Count the frequency of each element in the array\n",
    "    freq_dict = Counter(arr)\n",
    "    \n",
    "    # Find the element(s) with the highest frequency\n",
    "    mode = max(freq_dict, key=freq_dict.get)\n",
    "    \n",
    "    return mode"
   ]
  },
  {
   "cell_type": "code",
   "execution_count": 2,
   "metadata": {},
   "outputs": [
    {
     "name": "stdout",
     "output_type": "stream",
     "text": [
      "1\n"
     ]
    }
   ],
   "source": [
    "arr = [1, 2, 3, 3, 4, 4, 4,1,1,1,1,1,1,1, 5, 5]\n",
    "mode = calculate_mode(arr)\n",
    "print(mode)  # Output: will be beter feq\n"
   ]
  },
  {
   "attachments": {},
   "cell_type": "markdown",
   "metadata": {},
   "source": [
    "## test regression"
   ]
  },
  {
   "cell_type": "code",
   "execution_count": 3,
   "metadata": {},
   "outputs": [
    {
     "name": "stdout",
     "output_type": "stream",
     "text": [
      "Data\\Sample001\\44944.png\n",
      "57204\n",
      "57204\n",
      "0\n",
      "(57204, 900)\n",
      "(57204,)\n",
      " The Number of Training data is  51483\n",
      " The Number of Testing data is  5721\n"
     ]
    },
    {
     "name": "stderr",
     "output_type": "stream",
     "text": [
      "e:\\Python\\setupPython\\Lib\\site-packages\\sklearn\\linear_model\\_logistic.py:458: ConvergenceWarning: lbfgs failed to converge (status=1):\n",
      "STOP: TOTAL NO. of ITERATIONS REACHED LIMIT.\n",
      "\n",
      "Increase the number of iterations (max_iter) or scale the data as shown in:\n",
      "    https://scikit-learn.org/stable/modules/preprocessing.html\n",
      "Please also refer to the documentation for alternative solver options:\n",
      "    https://scikit-learn.org/stable/modules/linear_model.html#logistic-regression\n",
      "  n_iter_i = _check_optimize_result(\n"
     ]
    },
    {
     "name": "stdout",
     "output_type": "stream",
     "text": [
      "0.8848103478412865\n",
      "0.8959656585669056\n"
     ]
    }
   ],
   "source": [
    "import numpy\n",
    "import numpy as np\n",
    "import cv2\n",
    "import glob\n",
    "import matplotlib\n",
    "import matplotlib.pyplot as plt\n",
    "from skimage import io\n",
    "import seaborn as sns \n",
    "\n",
    "from skimage import data, color\n",
    "from skimage.transform import rescale, resize, downscale_local_mean \n",
    "\n",
    "from sklearn.model_selection import train_test_split\n",
    "from sklearn.linear_model import LogisticRegression\n",
    "from sklearn.metrics import accuracy_score\n",
    "from sklearn.metrics import classification_report\n",
    "\n",
    "from sklearn.metrics import confusion_matrix\n",
    "\n",
    "from sklearn.metrics import roc_curve  \n",
    "from sklearn import metrics\n",
    "# from sklearn.metrics import plot_confusion_matrix\n",
    "import os\n",
    "import string\n",
    "\n",
    "from sklearn.decomposition import PCA\n",
    "all_images=[]\n",
    "\n",
    "def absoluteFilePaths( directory ):\n",
    "    \n",
    "    for dirpath,_,filenames in os.walk(directory):                   # walk to go through all the folders (inside main folder)\n",
    "        for f in filenames:\n",
    "            # print( f )\n",
    "            all_images.append( os.path.relpath(os.path.join(dirpath, f)))  # relpath to read the relative paths of all images\n",
    "# print(absoluteFilePaths( 'training_data' ))\n",
    "\n",
    "absoluteFilePaths('./Data')\n",
    "print(all_images[15])\n",
    "print(len(all_images))\n",
    "# print(len(all_labels))\n",
    "ll =[]\n",
    "def c_label(a,b,c):\n",
    " for item in range(a,b):\n",
    "    ll.append(c)\n",
    "\n",
    "for u in range(0,36):\n",
    "    c_label(u*1589,u*1589+1589,u)\n",
    "print(len(ll))\n",
    "print(ll[1146])\n",
    "# c_label(0,573,0)\n",
    "# c_label(573,1146,1)\n",
    "# c_label(1146,1719,2)\n",
    "#for all images\n",
    "f_all=[]\n",
    "for e in all_images:\n",
    "    imq_gray = cv2.imread(e, cv2.IMREAD_GRAYSCALE)\n",
    "    nq_gray = cv2.resize(imq_gray,(30,30))\n",
    "    nq_gray = nq_gray.reshape(900*1)\n",
    "    f_all.append(nq_gray)\n",
    "f_all = numpy.asarray(f_all)\n",
    "ll = numpy.asarray(ll)\n",
    "print(f_all.shape)\n",
    "print(ll.shape)\n",
    "X_train, X_test, y_train, y_test = train_test_split(  f_all , ll, test_size=0.1, stratify=ll , random_state=42)\n",
    "print(  \" The Number of Training data is \" ,  X_train.shape[0] )\n",
    "print(  \" The Number of Testing data is \"  ,  X_test.shape[0] )\n",
    "Logistic_model = LogisticRegression ( )\n",
    "Logistic_model = Logistic_model.fit(  X_train ,  y_train  )\n",
    "predict_y_test =  Logistic_model.predict( X_test  )\n",
    "\n",
    "predict_y_train =  Logistic_model.predict( X_train  )\n",
    "\n",
    "print( accuracy_score(   y_test ,  predict_y_test  )  )\n",
    "\n",
    "\n",
    "print( accuracy_score(   y_train ,  predict_y_train  )  )\n",
    "\n"
   ]
  },
  {
   "cell_type": "code",
   "execution_count": null,
   "metadata": {},
   "outputs": [],
   "source": []
  },
  {
   "cell_type": "code",
   "execution_count": null,
   "metadata": {},
   "outputs": [],
   "source": []
  },
  {
   "cell_type": "code",
   "execution_count": null,
   "metadata": {},
   "outputs": [],
   "source": []
  },
  {
   "attachments": {},
   "cell_type": "markdown",
   "metadata": {},
   "source": [
    "## letters segmentation"
   ]
  },
  {
   "cell_type": "code",
   "execution_count": 4,
   "metadata": {},
   "outputs": [],
   "source": [
    "import pytesseract\n",
    "from PIL import Image\n",
    "pytesseract.pytesseract.tesseract_cmd = r'C:\\Program Files\\Tesseract-OCR\\tesseract.exe'\n",
    "\n",
    "def segment_characters(image_path):\n",
    "\n",
    "    # Open the image and perform character segmentation using pytesseract\n",
    "    img = Image.open(image_path)\n",
    "    text = pytesseract.image_to_string(img, lang='eng', config='--psm 6')\n",
    "    \n",
    "    # Remove any non-alphanumeric characters from the text\n",
    "    text = ''.join(c for c in text if c.isalnum())\n",
    "    \n",
    "    # Get the bounding boxes of each character in the text\n",
    "    boxes = pytesseract.image_to_boxes(img, lang='eng', config='--psm 6')\n",
    "    boxes = boxes.split('\\n')\n",
    "    boxes = [b.split() for b in boxes]\n",
    "    \n",
    "    # Create a list of smaller images, one for each character\n",
    "    images = []\n",
    "    for box in boxes:\n",
    "        if len(box) == 6:\n",
    "            char = box[0]\n",
    "            left = int(box[1])\n",
    "            bottom = img.size[1] - int(box[2])\n",
    "            right = int(box[3])\n",
    "            top = img.size[1] - int(box[4])\n",
    "            char_img = img.crop((left, top, right,bottom)) \n",
    "            images.append(char_img)\n",
    "            # print(\"done\")\n",
    "            # print(images)\n",
    "    return images"
   ]
  },
  {
   "cell_type": "code",
   "execution_count": 5,
   "metadata": {},
   "outputs": [],
   "source": [
    "\n",
    "# image_path = './A.png'\n",
    "# char_images = segment_characters(image_path)\n",
    "\n",
    "# # Save each character image to a file\n",
    "# for i, char_img in enumerate(char_images):\n",
    "#     char_img.save(f'char_{i}.jpg')\n"
   ]
  },
  {
   "attachments": {},
   "cell_type": "markdown",
   "metadata": {},
   "source": [
    "### predict model"
   ]
  },
  {
   "cell_type": "code",
   "execution_count": 6,
   "metadata": {},
   "outputs": [],
   "source": [
    "import cv2\n",
    "from PIL import Image, ImageOps\n",
    "def predict_model(img):\n",
    "    pca = PCA(.98)\n",
    "    \n",
    "    # # plt.imshow(img, cmap='gray')\n",
    "    # padding = 5\n",
    "    # img_padded = cv2.copyMakeBorder(img, padding, padding, padding, padding, cv2.BORDER_CONSTANT, None, value=[255, 255, 255])\n",
    "\n",
    "    # padding = 5\n",
    "    # img = ImageOps.expand(img, border=padding, fill='white')\n",
    "    img = cv2.resize(cv2.imread(img,0),(30,30))\n",
    "\n",
    "    img = img.reshape(1,-1)/255\n",
    "    Logistic_model.predict(img)[0]\n",
    "\n",
    "    alphanumeric_to_number = dict(zip(string.digits + string.ascii_uppercase, range(36)))\n",
    "    # Convert number to alphanumeric character\n",
    "    number = Logistic_model.predict(img)[0]\n",
    "    char = list(alphanumeric_to_number.keys())[list(alphanumeric_to_number.values()).index(number)]\n",
    "    # print(char)\n",
    "\n",
    "    return char  \n"
   ]
  },
  {
   "attachments": {},
   "cell_type": "markdown",
   "metadata": {},
   "source": [
    "### output all letters"
   ]
  },
  {
   "cell_type": "code",
   "execution_count": 7,
   "metadata": {},
   "outputs": [],
   "source": [
    "def predict_all_letters(image):\n",
    "    # image_path = './A.png'\n",
    "    letters = []\n",
    "    char_images = segment_characters(image)\n",
    "    # print(char_images)\n",
    "    import cv2\n",
    "    # Save each character image to a file\n",
    "    for i, char_img in enumerate(char_images):\n",
    "        # char_img = np.asarray(char_img)\n",
    "        padding = 10\n",
    "        char_img = ImageOps.expand(char_img, border=padding, fill='white')\n",
    "        char_img.save(f'char_{i}.png')\n",
    "        # char_img = np.asarray(char_img)\n",
    "        \n",
    "        letters.append(predict_model(f\"char_{i}.png\"))\n",
    "        # print(letters)\n",
    "    return letters\n",
    "\n",
    "\n",
    "\n",
    "\n"
   ]
  },
  {
   "cell_type": "code",
   "execution_count": 8,
   "metadata": {},
   "outputs": [
    {
     "name": "stdout",
     "output_type": "stream",
     "text": [
      "A "
     ]
    }
   ],
   "source": [
    "imgg = \"./A.png\"\n",
    "x= []\n",
    "x = predict_all_letters(imgg)\n",
    "for i in x:\n",
    "    print(i,end=' ')"
   ]
  },
  {
   "cell_type": "code",
   "execution_count": 9,
   "metadata": {},
   "outputs": [
    {
     "data": {
      "text/plain": [
       "'O'"
      ]
     },
     "execution_count": 9,
     "metadata": {},
     "output_type": "execute_result"
    }
   ],
   "source": [
    "predict_model(\"./0.png\")"
   ]
  },
  {
   "cell_type": "code",
   "execution_count": 10,
   "metadata": {},
   "outputs": [],
   "source": [
    "# img = cv2.resize(cv2.imread(\"./char_0.png\",0),(30,30))\n",
    "# # img.save(f'char_30x30.png')\n",
    "# cv2.imshow(\"j\",img)\n",
    "# cv2.waitKey(0)"
   ]
  },
  {
   "attachments": {},
   "cell_type": "markdown",
   "metadata": {},
   "source": [
    "## test segment again "
   ]
  },
  {
   "cell_type": "code",
   "execution_count": null,
   "metadata": {},
   "outputs": [],
   "source": []
  },
  {
   "cell_type": "code",
   "execution_count": null,
   "metadata": {},
   "outputs": [],
   "source": []
  },
  {
   "cell_type": "code",
   "execution_count": null,
   "metadata": {},
   "outputs": [],
   "source": []
  },
  {
   "cell_type": "code",
   "execution_count": null,
   "metadata": {},
   "outputs": [],
   "source": []
  },
  {
   "attachments": {},
   "cell_type": "markdown",
   "metadata": {},
   "source": [
    "## GUI for browse and out put"
   ]
  },
  {
   "cell_type": "code",
   "execution_count": 15,
   "metadata": {},
   "outputs": [
    {
     "name": "stdout",
     "output_type": "stream",
     "text": [
      "MOHAMED\n"
     ]
    }
   ],
   "source": [
    "import tkinter as tk\n",
    "from tkinter import filedialog\n",
    "import tkinter.font as font\n",
    "from PIL import Image, ImageTk\n",
    "\n",
    "# Create a Tkinter window\n",
    "root = tk.Tk()\n",
    "root.geometry(\"600x600\")\n",
    "\n",
    "\n",
    "x= []\n",
    "# Define a function to open the file dialog\n",
    "def browse_file():\n",
    "    file_path = filedialog.askopenfilename()\n",
    "    # print(file_path)\n",
    "    \n",
    "        # Load the image using Pillow\n",
    "    image = Image.open(file_path)\n",
    "    \n",
    "    # Convert the image to a PhotoImage object using ImageTk\n",
    "    photo = ImageTk.PhotoImage(image)\n",
    "    \n",
    "    # Create a label with the image\n",
    "    label_img = tk.Label(root, image=photo)\n",
    "    label_img.image = photo\n",
    "    \n",
    "    # Display the label\n",
    "    label_img.pack()\n",
    "\n",
    "    x = predict_all_letters(file_path)\n",
    "\n",
    "    txt = ''\n",
    "    for i in x:\n",
    "        # print(i,end=' ')\n",
    "        if(txt == ''):\n",
    "            txt = i\n",
    "        else:\n",
    "            txt = txt + i\n",
    "    print (txt)\n",
    "    # # Create a bold font\n",
    "    # bold_font = font.Font(family='Helvetica', size=12, weight='bold')\n",
    "\n",
    "    # # Create a label with bold text\n",
    "    # label = tk.Label(root, text=txt, font=bold_font)\n",
    "\n",
    "    # # Display the label\n",
    "    # label.pack(padx=10,pady=10)\n",
    "    def get_selection():\n",
    "    # Get the selected text from the Entry widget\n",
    "        selection = entry.selection_get()\n",
    "        print(selection)\n",
    "        \n",
    "\n",
    "    # Create an Entry widget with selectable text\n",
    "    entry = tk.Entry(root, width=20, bd=2, relief='groove', font=('Arial', 20))\n",
    "    entry.insert(0, txt)\n",
    "\n",
    "    # Bind the Return key to call the get_selection function\n",
    "    entry.bind('<Return>', lambda event: get_selection())\n",
    "\n",
    "    # Display the Entry widget\n",
    "    entry.pack(padx=5,pady=5)\n",
    "\n",
    "    entry2 = tk.Entry(root,width=20,bd=2, relief='groove', font=('Arial', 20))\n",
    "    entry2.pack(padx=5,pady=5)\n",
    "\n",
    "\n",
    "# Create a \"Browse\" button\n",
    "browse_button = tk.Button(root,width=15, text=\"Browse\", command=browse_file)\n",
    "\n",
    "# Display the button\n",
    "browse_button.pack(padx=10,pady=10)\n",
    "\n",
    "# Run the Tkinter event loop\n",
    "root.mainloop()"
   ]
  },
  {
   "attachments": {},
   "cell_type": "markdown",
   "metadata": {},
   "source": [
    "# end"
   ]
  },
  {
   "attachments": {},
   "cell_type": "markdown",
   "metadata": {},
   "source": [
    "## /////////////////////////////////////////////////////////"
   ]
  },
  {
   "cell_type": "code",
   "execution_count": 12,
   "metadata": {},
   "outputs": [],
   "source": [
    "import tkinter as tk\n",
    "from tkinter import filedialog\n",
    "from PIL import Image, ImageTk\n",
    "\n",
    "# Create a Tkinter window\n",
    "root = tk.Tk()\n",
    "\n",
    "# Define a function to open the file dialog and display the image\n",
    "def open_image():\n",
    "    # Open the file dialog and get the selected file path\n",
    "    file_path = filedialog.askopenfilename()\n",
    "    \n",
    "    # Load the image using Pillow\n",
    "    image = Image.open(file_path)\n",
    "    \n",
    "    # Convert the image to a PhotoImage object using ImageTk\n",
    "    photo = ImageTk.PhotoImage(image)\n",
    "    \n",
    "    # Create a label with the image\n",
    "    label = tk.Label(root, image=photo)\n",
    "    label.image = photo\n",
    "    \n",
    "    # Display the label\n",
    "    label.pack()\n",
    "\n",
    "# Create a button to open the file dialog\n",
    "button = tk.Button(root, text=\"Open Image\", command=open_image)\n",
    "\n",
    "# Display the button\n",
    "button.pack()\n",
    "\n",
    "# Run the Tkinter event loop\n",
    "root.mainloop()"
   ]
  },
  {
   "cell_type": "code",
   "execution_count": null,
   "metadata": {},
   "outputs": [],
   "source": []
  },
  {
   "cell_type": "code",
   "execution_count": 13,
   "metadata": {},
   "outputs": [],
   "source": [
    "import tkinter as tk\n",
    "\n",
    "# Create a Tkinter window\n",
    "root = tk.Tk()\n",
    "\n",
    "# Define a function to get the selected text\n",
    "def get_selection():\n",
    "    # Get the selected text from the Entry widget\n",
    "    selection = entry.selection_get()\n",
    "    print(selection)\n",
    "\n",
    "# Create an Entry widget with selectable text\n",
    "entry = tk.Entry(root, width=30, bd=2, relief='groove', font=('Arial', 12))\n",
    "entry.insert(0, 'This is selectable text')\n",
    "\n",
    "# Bind the Return key to call the get_selection function\n",
    "entry.bind('<Return>', lambda event: get_selection())\n",
    "\n",
    "# Display the Entry widget\n",
    "entry.pack()\n",
    "\n",
    "# Run the Tkinter event loop\n",
    "root.mainloop()"
   ]
  },
  {
   "cell_type": "code",
   "execution_count": null,
   "metadata": {},
   "outputs": [],
   "source": []
  },
  {
   "cell_type": "code",
   "execution_count": null,
   "metadata": {},
   "outputs": [],
   "source": []
  }
 ],
 "metadata": {
  "kernelspec": {
   "display_name": "Python 3",
   "language": "python",
   "name": "python3"
  },
  "language_info": {
   "codemirror_mode": {
    "name": "ipython",
    "version": 3
   },
   "file_extension": ".py",
   "mimetype": "text/x-python",
   "name": "python",
   "nbconvert_exporter": "python",
   "pygments_lexer": "ipython3",
   "version": "3.11.2"
  },
  "orig_nbformat": 4
 },
 "nbformat": 4,
 "nbformat_minor": 2
}
